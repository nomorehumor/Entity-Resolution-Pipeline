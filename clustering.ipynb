{
 "cells": [
  {
   "cell_type": "code",
   "execution_count": 1,
   "metadata": {},
   "outputs": [],
   "source": [
    "import pandas as pd"
   ]
  },
  {
   "cell_type": "code",
   "execution_count": 40,
   "metadata": {},
   "outputs": [
    {
     "name": "stdout",
     "output_type": "stream",
     "text": [
      "2850 2073\n",
      "2850 2073\n"
     ]
    }
   ],
   "source": [
    "df_acm_viet, df_dblp_viet = pd.read_csv(\"output/deduplicated_acm.csv\"), pd.read_csv(\"output/deduplicated_dblp.csv\")\n",
    "df_acm_viet_new, df_dblp_viet_new = pd.read_csv(\"output/deduplicated_acm_new.csv\"), pd.read_csv(\"output/deduplicated_dblp_new.csv\")\n",
    "df_acm_viet.fillna(\"\", inplace=True)\n",
    "df_dblp_viet.fillna(\"\", inplace=True)\n",
    "df_acm_viet_new.fillna(\"\", inplace=True)\n",
    "df_dblp_viet_new.fillna(\"\", inplace=True)\n",
    "print(len(df_acm_viet), len(df_dblp_viet))\n",
    "print(len(df_acm_viet_new), len(df_dblp_viet_new))"
   ]
  },
  {
   "cell_type": "code",
   "execution_count": 41,
   "metadata": {},
   "outputs": [
    {
     "name": "stdout",
     "output_type": "stream",
     "text": [
      "paperId_acm    2850\n",
      "title_acm      2850\n",
      "authors_acm    2850\n",
      "venue_acm      2850\n",
      "year_acm       2850\n",
      "dtype: int64\n",
      "paperId_dblp    2073\n",
      "title_dblp      2073\n",
      "authors_dblp    2073\n",
      "venue_dblp      2073\n",
      "year_dblp       2073\n",
      "dtype: int64\n"
     ]
    }
   ],
   "source": [
    "print((df_acm_viet == df_acm_viet_new).sum())\n",
    "print((df_dblp_viet == df_dblp_viet_new).sum())\n",
    "\n",
    "# df_acm[~df_acm]"
   ]
  },
  {
   "cell_type": "code",
   "execution_count": 21,
   "metadata": {},
   "outputs": [
    {
     "name": "stdout",
     "output_type": "stream",
     "text": [
      "paperId_acm    5590cf4f0cf25001c36eeff7\n",
      "title_acm             acm sigmod record\n",
      "authors_acm                            \n",
      "venue_acm             acm sigmod record\n",
      "year_acm                           2004\n",
      "Name: 174, dtype: object\n",
      "paperId_acm    5590cf4f0cf25001c36eeff7\n",
      "title_acm             acm sigmod record\n",
      "authors_acm                            \n",
      "venue_acm             acm sigmod record\n",
      "year_acm                           2004\n",
      "Name: 174, dtype: object\n"
     ]
    }
   ],
   "source": [
    "print(df_acm_viet.loc[174])\n",
    "print(df_acm_viet_new.loc[174])"
   ]
  },
  {
   "cell_type": "code",
   "execution_count": 45,
   "metadata": {},
   "outputs": [
    {
     "name": "stdout",
     "output_type": "stream",
     "text": [
      "2849\n",
      "2060\n"
     ]
    },
    {
     "data": {
      "text/plain": [
       "Index(['index_acm', 'paperId_acm', 'title_acm', 'authors_acm', 'venue_acm',\n",
       "       'year_acm'],\n",
       "      dtype='object')"
      ]
     },
     "execution_count": 45,
     "metadata": {},
     "output_type": "execute_result"
    }
   ],
   "source": [
    "df_acm, df_dblp = pd.read_csv(\"output/ACM_deduplicated_0.csv\"), pd.read_csv(\"output/DBLP_deduplicated_0.csv\")\n",
    "df_acm.fillna(\"\", inplace=True)\n",
    "df_dblp.fillna(\"\", inplace=True)\n",
    "print(len(df_acm))\n",
    "print(len(df_dblp))\n",
    "df_acm.keys()"
   ]
  },
  {
   "cell_type": "code",
   "execution_count": 44,
   "metadata": {},
   "outputs": [
    {
     "name": "stdout",
     "output_type": "stream",
     "text": [
      "160\n"
     ]
    }
   ],
   "source": [
    "notid_rows = set()\n",
    "for (i, row) in df_acm.iterrows():\n",
    "    if row[\"title_acm\"] not in df_acm_viet[\"title_acm\"].values:\n",
    "       notid_rows.add(row[\"title_acm\"])\n",
    "       \n",
    "print(len(notid_rows))"
   ]
  },
  {
   "cell_type": "code",
   "execution_count": null,
   "metadata": {},
   "outputs": [],
   "source": []
  }
 ],
 "metadata": {
  "kernelspec": {
   "display_name": "Python 3",
   "language": "python",
   "name": "python3"
  },
  "language_info": {
   "codemirror_mode": {
    "name": "ipython",
    "version": 3
   },
   "file_extension": ".py",
   "mimetype": "text/x-python",
   "name": "python",
   "nbconvert_exporter": "python",
   "pygments_lexer": "ipython3",
   "version": "3.11.4"
  }
 },
 "nbformat": 4,
 "nbformat_minor": 2
}
